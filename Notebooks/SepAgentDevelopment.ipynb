{
 "cells": [
  {
   "cell_type": "markdown",
   "id": "7e885697",
   "metadata": {},
   "source": [
    "# Separation Agent Development\n",
    "This notebook is being developed to facilitate the development of the agentic-based design of separation processes for selected materials from both industrial wastes and/or natural minerals."
   ]
  },
  {
   "cell_type": "markdown",
   "id": "edaec1de",
   "metadata": {},
   "source": [
    "## Develop the Domain Specific Language (DSL)"
   ]
  },
  {
   "cell_type": "code",
   "execution_count": 4,
   "id": "58d3e6b9",
   "metadata": {},
   "outputs": [],
   "source": [
    "from sep_agents.orchestrator.planner import load_flowsheet\n",
    "def test_graph_ok():\n",
    "  fs = load_flowsheet(\"../examples/steel_slag_minimal.yaml\")\n",
    "  assert fs.validate_graph() is True"
   ]
  },
  {
   "cell_type": "code",
   "execution_count": 3,
   "id": "1b866db1",
   "metadata": {},
   "outputs": [
    {
     "name": "stdout",
     "output_type": "stream",
     "text": [
      "/Users/davidtew/Library/CloudStorage/GoogleDrive-davetew@step-function.com/My Drive/Github/Separation-Agents/Notebooks\n"
     ]
    }
   ],
   "source": [
    "!pwd"
   ]
  },
  {
   "cell_type": "code",
   "execution_count": 5,
   "id": "8320625c",
   "metadata": {},
   "outputs": [
    {
     "ename": "AttributeError",
     "evalue": "'pydantic_core._pydantic_core.ValidationInfo' object has no attribute 'get'",
     "output_type": "error",
     "traceback": [
      "\u001b[31m---------------------------------------------------------------------------\u001b[39m",
      "\u001b[31mAttributeError\u001b[39m                            Traceback (most recent call last)",
      "\u001b[36mCell\u001b[39m\u001b[36m \u001b[39m\u001b[32mIn[5]\u001b[39m\u001b[32m, line 1\u001b[39m\n\u001b[32m----> \u001b[39m\u001b[32m1\u001b[39m \u001b[43mtest_graph_ok\u001b[49m\u001b[43m(\u001b[49m\u001b[43m)\u001b[49m\n",
      "\u001b[36mCell\u001b[39m\u001b[36m \u001b[39m\u001b[32mIn[4]\u001b[39m\u001b[32m, line 3\u001b[39m, in \u001b[36mtest_graph_ok\u001b[39m\u001b[34m()\u001b[39m\n\u001b[32m      2\u001b[39m \u001b[38;5;28;01mdef\u001b[39;00m\u001b[38;5;250m \u001b[39m\u001b[34mtest_graph_ok\u001b[39m():\n\u001b[32m----> \u001b[39m\u001b[32m3\u001b[39m   fs = \u001b[43mload_flowsheet\u001b[49m\u001b[43m(\u001b[49m\u001b[33;43m\"\u001b[39;49m\u001b[33;43m../examples/steel_slag_minimal.yaml\u001b[39;49m\u001b[33;43m\"\u001b[39;49m\u001b[43m)\u001b[49m\n\u001b[32m      4\u001b[39m   \u001b[38;5;28;01massert\u001b[39;00m fs.validate_graph() \u001b[38;5;129;01mis\u001b[39;00m \u001b[38;5;28;01mTrue\u001b[39;00m\n",
      "\u001b[36mFile \u001b[39m\u001b[32m~/Library/CloudStorage/GoogleDrive-davetew@step-function.com/My Drive/Github/Separation-Agents/src/sep_agents/orchestrator/planner.py:61\u001b[39m, in \u001b[36mload_flowsheet\u001b[39m\u001b[34m(path)\u001b[39m\n\u001b[32m     59\u001b[39m \u001b[38;5;28;01mdef\u001b[39;00m\u001b[38;5;250m \u001b[39m\u001b[34mload_flowsheet\u001b[39m(path: \u001b[38;5;28mstr\u001b[39m) -> Flowsheet:\n\u001b[32m     60\u001b[39m     data = yaml.safe_load(\u001b[38;5;28mopen\u001b[39m(path))\n\u001b[32m---> \u001b[39m\u001b[32m61\u001b[39m     units = \u001b[43m[\u001b[49m\u001b[43mUnitOp\u001b[49m\u001b[43m(\u001b[49m\u001b[43m*\u001b[49m\u001b[43m*\u001b[49m\u001b[43mu\u001b[49m\u001b[43m)\u001b[49m\u001b[43m \u001b[49m\u001b[38;5;28;43;01mfor\u001b[39;49;00m\u001b[43m \u001b[49m\u001b[43mu\u001b[49m\u001b[43m \u001b[49m\u001b[38;5;129;43;01min\u001b[39;49;00m\u001b[43m \u001b[49m\u001b[43mdata\u001b[49m\u001b[43m[\u001b[49m\u001b[33;43m\"\u001b[39;49m\u001b[33;43munits\u001b[39;49m\u001b[33;43m\"\u001b[39;49m\u001b[43m]\u001b[49m\u001b[43m]\u001b[49m\n\u001b[32m     62\u001b[39m     streams = [Stream(**s) \u001b[38;5;28;01mfor\u001b[39;00m s \u001b[38;5;129;01min\u001b[39;00m data.get(\u001b[33m\"\u001b[39m\u001b[33mstreams\u001b[39m\u001b[33m\"\u001b[39m, [])]\n\u001b[32m     63\u001b[39m     \u001b[38;5;28;01mreturn\u001b[39;00m Flowsheet(name=data.get(\u001b[33m\"\u001b[39m\u001b[33mname\u001b[39m\u001b[33m\"\u001b[39m, \u001b[33m\"\u001b[39m\u001b[33mfs\u001b[39m\u001b[33m\"\u001b[39m), units=units, streams=streams)\n",
      "\u001b[36mFile \u001b[39m\u001b[32m~/Library/CloudStorage/GoogleDrive-davetew@step-function.com/My Drive/Github/Separation-Agents/src/sep_agents/orchestrator/planner.py:61\u001b[39m, in \u001b[36m<listcomp>\u001b[39m\u001b[34m(.0)\u001b[39m\n\u001b[32m     59\u001b[39m \u001b[38;5;28;01mdef\u001b[39;00m\u001b[38;5;250m \u001b[39m\u001b[34mload_flowsheet\u001b[39m(path: \u001b[38;5;28mstr\u001b[39m) -> Flowsheet:\n\u001b[32m     60\u001b[39m     data = yaml.safe_load(\u001b[38;5;28mopen\u001b[39m(path))\n\u001b[32m---> \u001b[39m\u001b[32m61\u001b[39m     units = [\u001b[43mUnitOp\u001b[49m\u001b[43m(\u001b[49m\u001b[43m*\u001b[49m\u001b[43m*\u001b[49m\u001b[43mu\u001b[49m\u001b[43m)\u001b[49m \u001b[38;5;28;01mfor\u001b[39;00m u \u001b[38;5;129;01min\u001b[39;00m data[\u001b[33m\"\u001b[39m\u001b[33munits\u001b[39m\u001b[33m\"\u001b[39m]]\n\u001b[32m     62\u001b[39m     streams = [Stream(**s) \u001b[38;5;28;01mfor\u001b[39;00m s \u001b[38;5;129;01min\u001b[39;00m data.get(\u001b[33m\"\u001b[39m\u001b[33mstreams\u001b[39m\u001b[33m\"\u001b[39m, [])]\n\u001b[32m     63\u001b[39m     \u001b[38;5;28;01mreturn\u001b[39;00m Flowsheet(name=data.get(\u001b[33m\"\u001b[39m\u001b[33mname\u001b[39m\u001b[33m\"\u001b[39m, \u001b[33m\"\u001b[39m\u001b[33mfs\u001b[39m\u001b[33m\"\u001b[39m), units=units, streams=streams)\n",
      "    \u001b[31m[... skipping hidden 1 frame]\u001b[39m\n",
      "\u001b[36mFile \u001b[39m\u001b[32m~/Library/CloudStorage/GoogleDrive-davetew@step-function.com/My Drive/Github/Separation-Agents/src/sep_agents/dsl/schemas.py:53\u001b[39m, in \u001b[36mUnitOp.check_params\u001b[39m\u001b[34m(cls, v, values)\u001b[39m\n\u001b[32m     51\u001b[39m \u001b[38;5;129m@field_validator\u001b[39m(\u001b[33m\"\u001b[39m\u001b[33mparams\u001b[39m\u001b[33m\"\u001b[39m)\n\u001b[32m     52\u001b[39m \u001b[38;5;28;01mdef\u001b[39;00m\u001b[38;5;250m \u001b[39m\u001b[34mcheck_params\u001b[39m(\u001b[38;5;28mcls\u001b[39m, v, values):\n\u001b[32m---> \u001b[39m\u001b[32m53\u001b[39m     unit_type = \u001b[43mvalues\u001b[49m\u001b[43m.\u001b[49m\u001b[43mget\u001b[49m(\u001b[33m\"\u001b[39m\u001b[33mtype\u001b[39m\u001b[33m\"\u001b[39m)\n\u001b[32m     54\u001b[39m     \u001b[38;5;28;01mif\u001b[39;00m unit_type \u001b[38;5;129;01mnot\u001b[39;00m \u001b[38;5;129;01min\u001b[39;00m UNIT_PARAM_SPEC:\n\u001b[32m     55\u001b[39m         \u001b[38;5;28;01mraise\u001b[39;00m \u001b[38;5;167;01mValueError\u001b[39;00m(\u001b[33mf\u001b[39m\u001b[33m\"\u001b[39m\u001b[33mUnknown unit type: \u001b[39m\u001b[38;5;132;01m{\u001b[39;00munit_type\u001b[38;5;132;01m}\u001b[39;00m\u001b[33m\"\u001b[39m)\n",
      "\u001b[31mAttributeError\u001b[39m: 'pydantic_core._pydantic_core.ValidationInfo' object has no attribute 'get'"
     ]
    }
   ],
   "source": [
    "test_graph_ok()"
   ]
  }
 ],
 "metadata": {
  "kernelspec": {
   "display_name": "sep-agents",
   "language": "python",
   "name": "python3"
  },
  "language_info": {
   "codemirror_mode": {
    "name": "ipython",
    "version": 3
   },
   "file_extension": ".py",
   "mimetype": "text/x-python",
   "name": "python",
   "nbconvert_exporter": "python",
   "pygments_lexer": "ipython3",
   "version": "3.11.13"
  }
 },
 "nbformat": 4,
 "nbformat_minor": 5
}
